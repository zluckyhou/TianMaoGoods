{
 "cells": [
  {
   "cell_type": "code",
   "execution_count": 93,
   "metadata": {},
   "outputs": [],
   "source": [
    "import re\n",
    "import requests\n",
    "from lxml import etree\n",
    "from user_agent import generate_user_agent\n",
    "import os\n",
    "import time\n",
    "import random"
   ]
  },
  {
   "cell_type": "code",
   "execution_count": 14,
   "metadata": {},
   "outputs": [],
   "source": [
    "from selenium import webdriver\n",
    "from selenium.common.exceptions import TimeoutException\n",
    "from selenium.webdriver.common.by import By\n",
    "from selenium.webdriver.support import expected_conditions as EC\n",
    "from selenium.webdriver.support.wait import WebDriverWait\n",
    "from selenium.webdriver.common.keys import Keys"
   ]
  },
  {
   "cell_type": "code",
   "execution_count": 16,
   "metadata": {},
   "outputs": [],
   "source": [
    "co = webdriver.ChromeOptions()\n",
    "# co.add_argument('--headerless')\n",
    "# co.add_argument('--disable-images')\n",
    "co.add_argument('--user-agent={}'.format(generate_user_agent(navigator=['chrome'])))\n",
    "\n",
    "\n",
    "# In[287]:\n",
    "\n",
    "\n",
    "browser=webdriver.Chrome(options=co,service_log_path=os.path.devnull)\n",
    "browser.get('https://www.dianping.com/')\n",
    "\n",
    "wait = WebDriverWait(browser,10)"
   ]
  },
  {
   "cell_type": "code",
   "execution_count": 18,
   "metadata": {},
   "outputs": [],
   "source": [
    "login_button = wait.until(EC.presence_of_element_located((By.XPATH,'//a[@data-click-name=\"login\"]')))"
   ]
  },
  {
   "cell_type": "code",
   "execution_count": 19,
   "metadata": {},
   "outputs": [],
   "source": [
    "login_button.click()"
   ]
  },
  {
   "cell_type": "code",
   "execution_count": 21,
   "metadata": {},
   "outputs": [],
   "source": [
    "element = browser.find_element_by_id('J-search-input')"
   ]
  },
  {
   "cell_type": "code",
   "execution_count": 22,
   "metadata": {},
   "outputs": [],
   "source": [
    "element.send_keys('猫咪寄养')"
   ]
  },
  {
   "cell_type": "code",
   "execution_count": 23,
   "metadata": {},
   "outputs": [],
   "source": [
    "element.send_keys(Keys.RETURN)"
   ]
  },
  {
   "cell_type": "markdown",
   "metadata": {},
   "source": [
    "## 普通方法抓取"
   ]
  },
  {
   "cell_type": "markdown",
   "metadata": {},
   "source": [
    "### 获取店铺列表"
   ]
  },
  {
   "cell_type": "code",
   "execution_count": 103,
   "metadata": {},
   "outputs": [],
   "source": [
    "ua_ls = ['Opera/9.80(Macintosh;IntelMacOSX10.6.8;U;en)Presto/2.8.131Version/11.11','Mozilla/5.0 (Android 4.4; Tablet; rv:41.0) Gecko/41.0 Firefox/41.0','Mozilla/5.0 (Windows NT x.y; Win64; x64; rv:10.0) Gecko/20100101 Firefox/10.0','Mozilla/5.0 (Windows NT 10.0; Win64; x64) AppleWebKit/537.36 (KHTML, like Gecko) Chrome/42.0.2311.135 Safari/537.36 Edge/12.246','Mozilla/5.0 (Macintosh; Intel Mac OS X 10_13_5) AppleWebKit/537.36 (KHTML, like Gecko) Chrome/69.0.3497.100 Safari/537.36']"
   ]
  },
  {
   "cell_type": "code",
   "execution_count": 102,
   "metadata": {},
   "outputs": [],
   "source": [
    "def get_shop_list(url):\n",
    "    headers = {'User-Agent':random.choice(ua_ls)}\n",
    "    r = requests.get(url,headers = headers)\n",
    "    s = etree.HTML(r.text)\n",
    "    ls = s.xpath('//div[@id=\"shop-all-list\"]/ul/li')\n",
    "    shop_ls = []\n",
    "    for i in range(1,len(ls)+1):\n",
    "        d = {}\n",
    "        shop_name = s.xpath(f'//div[@id=\"shop-all-list\"]/ul/li[{i}]//a[@data-click-name=\"shop_title_click\"]/@title')+[999]\n",
    "        shop_url = s.xpath(f'//div[@id=\"shop-all-list\"]/ul/li[{i}]//a[@data-click-name=\"shop_title_click\"]/@href')+[999]\n",
    "        shop_addr = s.xpath(f'//div[@id=\"shop-all-list\"]/ul/li[{i}]//span[@class=\"addr\"]/text()')+[999]\n",
    "        shop_rank = s.xpath(f'//div[@id=\"shop-all-list\"]/ul/li[{i}]//span[@class=\"sml-rank-stars sml-str50\"]/@title')+[999]\n",
    "        d['name'] = shop_name[0]\n",
    "        d['url'] = shop_url[0]\n",
    "        d['addr'] = shop_addr[0]\n",
    "        d['rank'] = shop_rank[0]\n",
    "        shop_ls.append(d)\n",
    "    return shop_ls"
   ]
  },
  {
   "cell_type": "code",
   "execution_count": 84,
   "metadata": {},
   "outputs": [
    {
     "name": "stdout",
     "output_type": "stream",
     "text": [
      "Downloading page 1...\n",
      "Downloading page 2...\n",
      "Downloading page 3...\n",
      "Downloading page 4...\n",
      "Downloading page 5...\n",
      "Downloading page 6...\n",
      "Downloading page 7...\n",
      "Downloading page 8...\n",
      "Downloading page 9...\n",
      "Downloading page 10...\n",
      "Downloading page 11...\n",
      "Downloading page 12...\n",
      "Downloading page 13...\n",
      "Downloading page 14...\n",
      "Downloading page 15...\n"
     ]
    }
   ],
   "source": [
    "shop_ls = []\n",
    "for page in range(1,16):\n",
    "    url = f'https://www.dianping.com/search/keyword/1/0_%E7%8C%AB%E5%92%AA%E5%AF%84%E5%85%BB/p{page}'\n",
    "    print(f'Downloading page {page}...')\n",
    "    res = get_shop_list(url)\n",
    "    shop_ls.extend(res)\n",
    "    time.sleep(2)\n"
   ]
  },
  {
   "cell_type": "code",
   "execution_count": 85,
   "metadata": {},
   "outputs": [
    {
     "data": {
      "text/plain": [
       "74"
      ]
     },
     "execution_count": 85,
     "metadata": {},
     "output_type": "execute_result"
    }
   ],
   "source": [
    "len(shop_ls)"
   ]
  },
  {
   "cell_type": "code",
   "execution_count": 155,
   "metadata": {},
   "outputs": [
    {
     "data": {
      "text/plain": [
       "'http://www.dianping.com/shop/92643866'"
      ]
     },
     "execution_count": 155,
     "metadata": {},
     "output_type": "execute_result"
    }
   ],
   "source": [
    "shop_ls[0]['url']"
   ]
  },
  {
   "cell_type": "markdown",
   "metadata": {},
   "source": [
    "## 使用splinter抓取"
   ]
  },
  {
   "cell_type": "code",
   "execution_count": 108,
   "metadata": {},
   "outputs": [],
   "source": [
    "from splinter import Browser\n",
    "browser = Browser(driver_name='chrome')"
   ]
  },
  {
   "cell_type": "code",
   "execution_count": 109,
   "metadata": {},
   "outputs": [],
   "source": [
    "browser.visit('https://www.dianping.com')"
   ]
  },
  {
   "cell_type": "code",
   "execution_count": 114,
   "metadata": {},
   "outputs": [],
   "source": [
    "search = browser.find_by_id('J-search-input')[0]"
   ]
  },
  {
   "cell_type": "code",
   "execution_count": 116,
   "metadata": {},
   "outputs": [],
   "source": [
    "search.fill('猫咪寄养')"
   ]
  },
  {
   "cell_type": "code",
   "execution_count": 118,
   "metadata": {},
   "outputs": [],
   "source": [
    "search_button = browser.find_by_id('J-all-btn')[0]"
   ]
  },
  {
   "cell_type": "code",
   "execution_count": 119,
   "metadata": {},
   "outputs": [],
   "source": [
    "search_button.click()"
   ]
  },
  {
   "cell_type": "code",
   "execution_count": 147,
   "metadata": {},
   "outputs": [],
   "source": [
    "browser.windows.current = browser.windows[-1]"
   ]
  },
  {
   "cell_type": "code",
   "execution_count": 150,
   "metadata": {},
   "outputs": [],
   "source": [
    "next_page = browser.find_by_css('.next')[0]"
   ]
  },
  {
   "cell_type": "code",
   "execution_count": 151,
   "metadata": {},
   "outputs": [],
   "source": [
    "next_page.click()"
   ]
  },
  {
   "cell_type": "code",
   "execution_count": 156,
   "metadata": {},
   "outputs": [],
   "source": [
    "browser.visit(shop_ls[0]['url'])"
   ]
  },
  {
   "cell_type": "code",
   "execution_count": 166,
   "metadata": {},
   "outputs": [],
   "source": [
    "review = browser.find_by_xpath('//a[contains(text(),\"更多点评\")]')"
   ]
  },
  {
   "cell_type": "code",
   "execution_count": 168,
   "metadata": {},
   "outputs": [],
   "source": [
    "review[0].click()"
   ]
  },
  {
   "cell_type": "code",
   "execution_count": 165,
   "metadata": {},
   "outputs": [],
   "source": [
    "if review:\n",
    "    review[0].click()"
   ]
  },
  {
   "cell_type": "code",
   "execution_count": null,
   "metadata": {},
   "outputs": [],
   "source": []
  }
 ],
 "metadata": {
  "kernelspec": {
   "display_name": "Python 3",
   "language": "python",
   "name": "python3"
  },
  "language_info": {
   "codemirror_mode": {
    "name": "ipython",
    "version": 3
   },
   "file_extension": ".py",
   "mimetype": "text/x-python",
   "name": "python",
   "nbconvert_exporter": "python",
   "pygments_lexer": "ipython3",
   "version": "3.6.5"
  }
 },
 "nbformat": 4,
 "nbformat_minor": 2
}
